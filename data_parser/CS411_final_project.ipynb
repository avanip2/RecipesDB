{
 "cells": [
  {
   "cell_type": "markdown",
   "metadata": {},
   "source": [
    "### 411 Data Parsing"
   ]
  },
  {
   "cell_type": "code",
   "execution_count": 1,
   "metadata": {},
   "outputs": [],
   "source": [
    "import numpy as np\n",
    "import pandas as pd"
   ]
  },
  {
   "cell_type": "code",
   "execution_count": 2,
   "metadata": {},
   "outputs": [],
   "source": [
    "def read_data_csv(path):\n",
    "    data = pd.read_csv(path)\n",
    "    return data"
   ]
  },
  {
   "cell_type": "markdown",
   "metadata": {},
   "source": [
    "Don't have:\n",
    "Users:\n",
    "- first_name -> fake\n",
    "- last_name -> fake\n",
    "- email -> leave NULL\n",
    "Recipe:\n",
    "Ingr3di3nt:\n"
   ]
  },
  {
   "cell_type": "code",
   "execution_count": null,
   "metadata": {},
   "outputs": [],
   "source": []
  },
  {
   "cell_type": "code",
   "execution_count": 3,
   "metadata": {},
   "outputs": [],
   "source": [
    "def checkNull(og_df, column):\n",
    "    table = og_df[column]\n",
    "    return og_df.loc[table.isnull() == True]"
   ]
  },
  {
   "cell_type": "code",
   "execution_count": 14,
   "metadata": {},
   "outputs": [
    {
     "name": "stderr",
     "output_type": "stream",
     "text": [
      "C:\\Users\\Owner\\AppData\\Local\\Temp\\ipykernel_5940\\4034509537.py:18: SettingWithCopyWarning: \n",
      "A value is trying to be set on a copy of a slice from a DataFrame\n",
      "\n",
      "See the caveats in the documentation: https://pandas.pydata.org/pandas-docs/stable/user_guide/indexing.html#returning-a-view-versus-a-copy\n",
      "  df2['cooking_method'][i] = \"see later\"\n"
     ]
    },
    {
     "name": "stdout",
     "output_type": "stream",
     "text": [
      "9\n"
     ]
    },
    {
     "data": {
      "text/html": [
       "<div>\n",
       "<style scoped>\n",
       "    .dataframe tbody tr th:only-of-type {\n",
       "        vertical-align: middle;\n",
       "    }\n",
       "\n",
       "    .dataframe tbody tr th {\n",
       "        vertical-align: top;\n",
       "    }\n",
       "\n",
       "    .dataframe thead th {\n",
       "        text-align: right;\n",
       "    }\n",
       "</style>\n",
       "<table border=\"1\" class=\"dataframe\">\n",
       "  <thead>\n",
       "    <tr style=\"text-align: right;\">\n",
       "      <th></th>\n",
       "      <th>recipe_id</th>\n",
       "      <th>recipe_name</th>\n",
       "      <th>cooking_method</th>\n",
       "      <th>cuisine</th>\n",
       "      <th>image</th>\n",
       "      <th>prep_time</th>\n",
       "      <th>serves</th>\n",
       "    </tr>\n",
       "  </thead>\n",
       "  <tbody>\n",
       "    <tr>\n",
       "      <th>160</th>\n",
       "      <td>161</td>\n",
       "      <td>Loaded Baked Sweet Potato “Healthified”</td>\n",
       "      <td>see later</td>\n",
       "      <td>['American']</td>\n",
       "      <td>https://www.skinnytaste.com/wp-content/uploads...</td>\n",
       "      <td>10 minutes</td>\n",
       "      <td>4 servings</td>\n",
       "    </tr>\n",
       "    <tr>\n",
       "      <th>161</th>\n",
       "      <td>162</td>\n",
       "      <td>Cheeseburger Soup</td>\n",
       "      <td>see later</td>\n",
       "      <td>['American']</td>\n",
       "      <td>https://www.skinnytaste.com/wp-content/uploads...</td>\n",
       "      <td>10 minutes</td>\n",
       "      <td>6 servings</td>\n",
       "    </tr>\n",
       "    <tr>\n",
       "      <th>162</th>\n",
       "      <td>163</td>\n",
       "      <td>Shrimp Fajita Bowls</td>\n",
       "      <td>see later</td>\n",
       "      <td>['Mexican']</td>\n",
       "      <td>https://www.skinnytaste.com/wp-content/uploads...</td>\n",
       "      <td>15 minutes</td>\n",
       "      <td>4 servings</td>\n",
       "    </tr>\n",
       "    <tr>\n",
       "      <th>163</th>\n",
       "      <td>164</td>\n",
       "      <td>Pumpkin Turkey Chili</td>\n",
       "      <td>see later</td>\n",
       "      <td>['American']</td>\n",
       "      <td>https://www.skinnytaste.com/wp-content/uploads...</td>\n",
       "      <td>10 minutes</td>\n",
       "      <td>6 servings</td>\n",
       "    </tr>\n",
       "    <tr>\n",
       "      <th>164</th>\n",
       "      <td>165</td>\n",
       "      <td>Not-Fried Pinto Beans</td>\n",
       "      <td>see later</td>\n",
       "      <td>['Mexican']</td>\n",
       "      <td>https://www.skinnytaste.com/wp-content/uploads...</td>\n",
       "      <td>5 minutes</td>\n",
       "      <td>6 servings</td>\n",
       "    </tr>\n",
       "  </tbody>\n",
       "</table>\n",
       "</div>"
      ],
      "text/plain": [
       "     recipe_id                               recipe_name cooking_method  \\\n",
       "160        161  Loaded Baked Sweet Potato “Healthified”       see later   \n",
       "161        162                         Cheeseburger Soup      see later   \n",
       "162        163                       Shrimp Fajita Bowls      see later   \n",
       "163        164                      Pumpkin Turkey Chili      see later   \n",
       "164        165                     Not-Fried Pinto Beans      see later   \n",
       "\n",
       "          cuisine                                              image  \\\n",
       "160  ['American']  https://www.skinnytaste.com/wp-content/uploads...   \n",
       "161  ['American']  https://www.skinnytaste.com/wp-content/uploads...   \n",
       "162   ['Mexican']  https://www.skinnytaste.com/wp-content/uploads...   \n",
       "163  ['American']  https://www.skinnytaste.com/wp-content/uploads...   \n",
       "164   ['Mexican']  https://www.skinnytaste.com/wp-content/uploads...   \n",
       "\n",
       "      prep_time      serves  \n",
       "160  10 minutes  4 servings  \n",
       "161  10 minutes  6 servings  \n",
       "162  15 minutes  4 servings  \n",
       "163  10 minutes  6 servings  \n",
       "164   5 minutes  6 servings  "
      ]
     },
     "execution_count": 14,
     "metadata": {},
     "output_type": "execute_result"
    }
   ],
   "source": [
    "\n",
    "df = read_data_csv('data/recipes_82k.csv')\n",
    "df1 = df.drop(columns=['category'])\n",
    "# keep 2000 data points\n",
    "df2 = df1.head(2000)\n",
    "\n",
    "# keep df3 for tags and ingredients\n",
    "df3 = df2.copy()\n",
    "\n",
    "# drop tags and ingredients in df2\n",
    "df2 = df2.drop(columns=['tags', 'ingredients'])\n",
    "# add index column\n",
    "\n",
    "df2['recipe_id'] = range(1, len(df2) + 1)\n",
    "\n",
    "for i in range(len(df2['cooking_method'])):\n",
    "    method = df2['cooking_method'][i]\n",
    "    if len(method) > 500:\n",
    "        df2['cooking_method'][i] = \"see later\"\n",
    "\n",
    "print(len(df2['cooking_method'][0]))\n",
    "\n",
    "df2 = df2.loc[:,['recipe_id', 'recipe_name', 'cooking_method', 'cuisine', 'image', 'prep_time', 'serves']]\n",
    "# print(df2.columns)\n",
    "\n",
    "# code to check if a certain column has null values\n",
    "# curr = checkNull(df2, 'serves')\n",
    "# print(\"Null values:\", len(curr.values))\n",
    "# curr.head()\n",
    "\n",
    "# how to check datatypes for your df's\n",
    "# for col in df2.columns:\n",
    "#     print(type(df2[col].values[0]))\n",
    "df2.head()\n",
    "df_sus = df2[160:]\n",
    "df_sus.head()"
   ]
  },
  {
   "cell_type": "code",
   "execution_count": null,
   "metadata": {},
   "outputs": [],
   "source": [
    "# df2 is the dataframe\n",
    "'''\n",
    "recipe_id: int not null -> yes\n",
    "title: string not null -> yes\n",
    "cooking_method: string not null -> yes\n",
    "cuisine: string\n",
    "image_path: string\n",
    "prep_time: string\n",
    "serving_number: string not null -> yes\n",
    "'''"
   ]
  },
  {
   "cell_type": "code",
   "execution_count": 15,
   "metadata": {},
   "outputs": [],
   "source": [
    "# convert to csv\n",
    "df2.to_csv('recipe_table.csv', index=False)\n",
    "df_sus.to_csv('recipe_table_other.csv', index=False)\n"
   ]
  },
  {
   "cell_type": "code",
   "execution_count": 63,
   "metadata": {},
   "outputs": [],
   "source": [
    "# make a csv for the unique tags\n",
    "df_tags = df3['tags'].drop_duplicates()\n",
    "# print(df_tags)\n",
    "# for tag in df_tags:\n",
    "#     tag += \",\"\n",
    "    # print(tag[len(tag) - 1])\n",
    "# print(df_tags.loc[0])\n",
    "df_tags.to_csv('newtags.csv', sep=',', encoding='utf-8', index=False)\n"
   ]
  }
 ],
 "metadata": {
  "kernelspec": {
   "display_name": "Python 3.10.8 64-bit (microsoft store)",
   "language": "python",
   "name": "python3"
  },
  "language_info": {
   "codemirror_mode": {
    "name": "ipython",
    "version": 3
   },
   "file_extension": ".py",
   "mimetype": "text/x-python",
   "name": "python",
   "nbconvert_exporter": "python",
   "pygments_lexer": "ipython3",
   "version": "3.10.8"
  },
  "orig_nbformat": 4,
  "vscode": {
   "interpreter": {
    "hash": "1d208fc92f63bff2dd80c97ffe5a57d134e87b05d2dbf0af794face5bab8487c"
   }
  }
 },
 "nbformat": 4,
 "nbformat_minor": 2
}
