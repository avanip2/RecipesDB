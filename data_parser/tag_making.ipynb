{
 "cells": [
  {
   "cell_type": "code",
   "execution_count": 32,
   "metadata": {},
   "outputs": [],
   "source": [
    "import numpy as np\n",
    "import pandas as pd\n",
    "import re"
   ]
  },
  {
   "cell_type": "code",
   "execution_count": 33,
   "metadata": {},
   "outputs": [],
   "source": [
    "def read_data_csv(path):\n",
    "    data = pd.read_csv(path)\n",
    "    return data"
   ]
  },
  {
   "cell_type": "code",
   "execution_count": 7,
   "metadata": {},
   "outputs": [],
   "source": [
    "df_tags = read_data_csv('data/tags.csv')\n",
    "all_tags = set()\n",
    "rows = df_tags.values\n",
    "ct = 0\n",
    "for row in rows:\n",
    "    # row is a list\n",
    "    rowstr = row[0]\n",
    "    rowlist = rowstr.split(\",\")\n",
    "    for i in range(len(rowlist)):\n",
    "        rowlist[i] = rowlist[i].strip()\n",
    "        rowlist[i] = rowlist[i].lower()\n",
    "    all_tags.update(rowlist)\n",
    "\n",
    "all_tags = list(all_tags)\n",
    "df_all_tags = pd.DataFrame(all_tags, columns=['tags'])\n",
    "df_all_tags.to_csv('tags.csv', index=False)"
   ]
  },
  {
   "cell_type": "code",
   "execution_count": null,
   "metadata": {},
   "outputs": [],
   "source": [
    "df_ing = read_data_csv('data/ingredients_table.csv')\n",
    "predata = df_ing['ingredients'].values\n",
    "for i in range(len(predata)):\n",
    "    if predata[i].startswith(\"[\") and predata[i].endswith(\"]\"):\n",
    "        predata[i] = predata[i][1:]\n",
    "        predata[i] = predata[i][:-1]\n",
    "    predata[i] = re.sub('\\'', '', predata[i])\n",
    "\n",
    "df_rec_ing = pd.DataFrame(columns = ['recipe_id', 'ingredient_name', 'amount'])\n",
    "measure_words = ['cup', 'cups', 'ounce', 'ounces', 'oz', 'oz.', 'teaspoon', 'teaspoons', 'tsp', 'tablespoon', 'tablespoons', 'tbsp', 'stick', 'pound', 'pounds', 'lb', 'lbs', 'kg', 'kgs', 'kilogram', 'kilograms', 'grams', 'gram', 'g', 'pinch']\n",
    "\n",
    "amt_ing = {}\n",
    "lone_ing = []\n",
    "\n",
    "for ind in df_ing.index:\n",
    "    lines = df_ing['ingredients'][ind].split(\",\")\n",
    "    for i in range(len(lines)):\n",
    "        lines[i] = lines[i].strip()\n",
    "        cat = lines[i].split(\" \")\n",
    "        inDict = 0\n",
    "        for j in range(len(cat)):\n",
    "            # df_rec_ing['recipe_id'][ind] = df_ing['recipe_id'][ind]\n",
    "            if cat[j] in measure_words:\n",
    "                # add to df\n",
    "                # new_row = {'name':'Geo', 'physics':87, 'chemistry':92, 'algebra':97}\n",
    "                amt = ' '.join(cat[:j + 1])\n",
    "                ing = ' '.join(cat[j + 1:])\n",
    "                # df_rec_ing['ingredient name'][ind] = ing\n",
    "                # df_rec_ing['amount'][ind] = amt\n",
    "                # amt_ing[amt] = ing\n",
    "                inDict = 1\n",
    "            if j == (len(cat) - 1) and cat[j] not in measure_words and inDict == 0:\n",
    "                # lone_ing.append(' '.join(cat))\n",
    "                ing = ' '.join(cat)\n",
    "                amt = None\n",
    "                # df_rec_ing['ingredient name'][ind] = lone\n",
    "            new_row = {'recipe_id': df_ing['recipe_id'][ind], 'ingredient_name': ing, 'amount': amt}\n",
    "        df_rec_ing = df_rec_ing.append(new_row, ignore_index=True)\n",
    "    "
   ]
  },
  {
   "cell_type": "code",
   "execution_count": 16,
   "metadata": {},
   "outputs": [],
   "source": [
    "df_rec_ing\n",
    "df_rec_ing.to_csv('recipe_ingredients.csv', index=False)"
   ]
  },
  {
   "cell_type": "code",
   "execution_count": null,
   "metadata": {},
   "outputs": [],
   "source": [
    "df_ingredients = df_rec_ing['ingredient_name']\n",
    "print(len(df_ingredients))\n",
    "print(len(df_ingredients.drop_duplicates()))\n",
    "# set(list(df_ingredients.values))\n",
    "df_ingredients = df_ingredients.drop_duplicates()\n",
    "df_ingredients.to_csv('ingredients.csv', index=False)"
   ]
  },
  {
   "cell_type": "code",
   "execution_count": 44,
   "metadata": {},
   "outputs": [],
   "source": [
    "df_td = read_data_csv('data/tags_table.csv')\n",
    "df_td.head()\n",
    "df_td_new = pd.DataFrame(columns = ['recipe_id', 'tag'])"
   ]
  },
  {
   "cell_type": "code",
   "execution_count": null,
   "metadata": {},
   "outputs": [],
   "source": [
    "for ind in df_td.index:\n",
    "    tags = df_td['tags'][ind].split(\",\")\n",
    "    for i in range(len(tags)):\n",
    "        tags[i] = tags[i].strip()\n",
    "        new_row = {'recipe_id': df_td['recipe_id'][ind], 'tag': tags[i]}\n",
    "        df_td_new = df_td_new.append(new_row, ignore_index=True)\n"
   ]
  },
  {
   "cell_type": "code",
   "execution_count": 56,
   "metadata": {},
   "outputs": [],
   "source": [
    "df_td_new\n",
    "df_td_new.to_csv('recipe_tags.csv', index=False)"
   ]
  }
 ],
 "metadata": {
  "kernelspec": {
   "display_name": "Python 3.10.8 64-bit (microsoft store)",
   "language": "python",
   "name": "python3"
  },
  "language_info": {
   "codemirror_mode": {
    "name": "ipython",
    "version": 3
   },
   "file_extension": ".py",
   "mimetype": "text/x-python",
   "name": "python",
   "nbconvert_exporter": "python",
   "pygments_lexer": "ipython3",
   "version": "3.10.8"
  },
  "orig_nbformat": 4,
  "vscode": {
   "interpreter": {
    "hash": "1d208fc92f63bff2dd80c97ffe5a57d134e87b05d2dbf0af794face5bab8487c"
   }
  }
 },
 "nbformat": 4,
 "nbformat_minor": 2
}
